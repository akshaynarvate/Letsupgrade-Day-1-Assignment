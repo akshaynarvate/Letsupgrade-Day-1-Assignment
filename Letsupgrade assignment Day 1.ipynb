{
 "cells": [
  {
   "cell_type": "code",
   "execution_count": 1,
   "id": "d0dbd806",
   "metadata": {},
   "outputs": [
    {
     "data": {
      "text/plain": [
       "23"
      ]
     },
     "execution_count": 1,
     "metadata": {},
     "output_type": "execute_result"
    }
   ],
   "source": [
    "# 1) After running the following code, what does the variable bacon contain?\n",
    "\n",
    "bacon = 22\n",
    "\n",
    "bacon + 1"
   ]
  },
  {
   "cell_type": "code",
   "execution_count": 2,
   "id": "f4038e16",
   "metadata": {},
   "outputs": [
    {
     "ename": "NameError",
     "evalue": "name 'spam' is not defined",
     "output_type": "error",
     "traceback": [
      "\u001b[1;31m---------------------------------------------------------------------------\u001b[0m",
      "\u001b[1;31mNameError\u001b[0m                                 Traceback (most recent call last)",
      "\u001b[1;32m<ipython-input-2-9ae2415ab48b>\u001b[0m in \u001b[0;36m<module>\u001b[1;34m\u001b[0m\n\u001b[0;32m      1\u001b[0m \u001b[1;31m# 2) What should the values of the following two terms be?\u001b[0m\u001b[1;33m\u001b[0m\u001b[1;33m\u001b[0m\u001b[1;33m\u001b[0m\u001b[0m\n\u001b[0;32m      2\u001b[0m \u001b[1;33m\u001b[0m\u001b[0m\n\u001b[1;32m----> 3\u001b[1;33m \u001b[0mspam\u001b[0m \u001b[1;33m+\u001b[0m \u001b[0mspamspam\u001b[0m\u001b[1;33m\u001b[0m\u001b[1;33m\u001b[0m\u001b[0m\n\u001b[0m\u001b[0;32m      4\u001b[0m \u001b[1;33m\u001b[0m\u001b[0m\n\u001b[0;32m      5\u001b[0m \u001b[0mspam\u001b[0m \u001b[1;33m*\u001b[0m \u001b[1;36m3\u001b[0m\u001b[1;33m\u001b[0m\u001b[1;33m\u001b[0m\u001b[0m\n",
      "\u001b[1;31mNameError\u001b[0m: name 'spam' is not defined"
     ]
    }
   ],
   "source": [
    "# 2) What should the values of the following two terms be?\n",
    "\n",
    "spam + spamspam\n",
    "\n",
    "spam * 3"
   ]
  },
  {
   "cell_type": "code",
   "execution_count": null,
   "id": "a5e7217c",
   "metadata": {},
   "outputs": [],
   "source": [
    "# 3) How can you tell the difference between break and continue?\n",
    "# Ans: Both break and continue is used in loops, break is used to terminate the loop and Coninue is used to terminate the current iteration and continue the next iteration of the loop."
   ]
  },
  {
   "cell_type": "code",
   "execution_count": 9,
   "id": "fb17068e",
   "metadata": {},
   "outputs": [
    {
     "name": "stdout",
     "output_type": "stream",
     "text": [
      "0123456789"
     ]
    }
   ],
   "source": [
    "# 4) In a for loop, What is the difference between range(10),range(0,10),range(0,10,1)?\n",
    "# Ans:eg1:-The range start from 0 and end at 9 \n",
    "for i in range(10):\n",
    "    print(i, end=\"\")\n",
    "\n"
   ]
  },
  {
   "cell_type": "code",
   "execution_count": 8,
   "id": "e4ef575f",
   "metadata": {},
   "outputs": [
    {
     "name": "stdout",
     "output_type": "stream",
     "text": [
      "0123456789"
     ]
    }
   ],
   "source": [
    "# Ans: eg2:- The range starting from 0 and stop at 10\n",
    "for i in range(0, 10):\n",
    "    print(i, end=\"\")"
   ]
  },
  {
   "cell_type": "code",
   "execution_count": 10,
   "id": "d973fe5c",
   "metadata": {},
   "outputs": [
    {
     "name": "stdout",
     "output_type": "stream",
     "text": [
      "0123456789"
     ]
    }
   ],
   "source": [
    "# Ans: eg3:-The range starting from 0 and stop at 10 and takes 1 step\n",
    "for i in range(0, 10, 1):\n",
    "    print(i, end=\"\")"
   ]
  },
  {
   "cell_type": "code",
   "execution_count": 11,
   "id": "e5249fe8",
   "metadata": {},
   "outputs": [
    {
     "name": "stdout",
     "output_type": "stream",
     "text": [
      "12345678910"
     ]
    }
   ],
   "source": [
    "# 5) Using a for loop, write a short programme that prints the numbers 1 to 10 Then, using a while loop, create an identical programme that prints the numbers 1 to 10?\n",
    "\n",
    "for i in range(1, 11):\n",
    "    print(i, end=\"\")"
   ]
  },
  {
   "cell_type": "code",
   "execution_count": 19,
   "id": "81a5ac89",
   "metadata": {},
   "outputs": [
    {
     "name": "stdout",
     "output_type": "stream",
     "text": [
      "12345678910"
     ]
    }
   ],
   "source": [
    "i = 1\n",
    "while (i<11):\n",
    "    print(i, end=\"\")\n",
    "    i += 1\n",
    "    "
   ]
  },
  {
   "cell_type": "code",
   "execution_count": null,
   "id": "2895f6ec",
   "metadata": {},
   "outputs": [],
   "source": [
    "# 6) Given a number x, determine whether given number is Armstrong number or not?\n",
    "\n",
    "\n",
    "def isArmstrong(x):\n",
    "      \n",
    "    n = order(x)\n",
    "    temp = x\n",
    "    sum1 = 0\n",
    "      \n",
    "    while (temp != 0):\n",
    "        r = temp % 10\n",
    "        sum1 = sum1 + power(r, n)\n",
    "        temp = temp // 10\n",
    "  \n",
    "    return (sum1 == x)\n",
    "\n",
    "x = (input(\"Enter the Armstrong number: \"))\n",
    "\n",
    "print(isArmstrong(x))"
   ]
  },
  {
   "cell_type": "code",
   "execution_count": null,
   "id": "a83c2a04",
   "metadata": {},
   "outputs": [],
   "source": [
    "# 7) Program to find Sum of squares of first n natural numbers?\n",
    "def sqsum(n) :\n",
    "   sm = 0\n",
    "   for i in range(1, n+1) :\n",
    "      sm = sm + pow(i,2)\n",
    "   return sm\n",
    "\n",
    "n = input(\"Enter the number: \")\n",
    "print(sqsum(n))"
   ]
  },
  {
   "cell_type": "code",
   "execution_count": null,
   "id": "d12a797c",
   "metadata": {},
   "outputs": [],
   "source": [
    "# 8) Program to Reverse words in a given String in Python?\n",
    "\n",
    "mytxt = input(\"Enter the word: \")\n",
    "\n",
    "print(mytxt[::-1])"
   ]
  },
  {
   "cell_type": "code",
   "execution_count": null,
   "id": "a5f983be",
   "metadata": {},
   "outputs": [],
   "source": [
    "# 9) Given a list of numbers,write a Python to find the sum of all the elements in the list?\n",
    "\n",
    "numList = [1,2,3,4,5]\n",
    "total = sum(numList)\n",
    "print(total)\n",
    "              "
   ]
  },
  {
   "cell_type": "code",
   "execution_count": null,
   "id": "74e44923",
   "metadata": {},
   "outputs": [],
   "source": [
    "# 10) Write a Python program to print all even numbers between 10-1000?\n",
    "\n",
    "for num in range(10, 1001):\n",
    "      \n",
    "    if num % 2 == 0:\n",
    "        print(num, end = \" \")\n",
    "        \n",
    "        "
   ]
  },
  {
   "cell_type": "code",
   "execution_count": null,
   "id": "87a8ecfb",
   "metadata": {},
   "outputs": [],
   "source": []
  }
 ],
 "metadata": {
  "kernelspec": {
   "display_name": "Python 3",
   "language": "python",
   "name": "python3"
  },
  "language_info": {
   "codemirror_mode": {
    "name": "ipython",
    "version": 3
   },
   "file_extension": ".py",
   "mimetype": "text/x-python",
   "name": "python",
   "nbconvert_exporter": "python",
   "pygments_lexer": "ipython3",
   "version": "3.8.8"
  }
 },
 "nbformat": 4,
 "nbformat_minor": 5
}
